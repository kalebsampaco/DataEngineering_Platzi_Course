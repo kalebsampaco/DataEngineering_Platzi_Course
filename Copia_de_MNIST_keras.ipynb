{
  "nbformat": 4,
  "nbformat_minor": 0,
  "metadata": {
    "colab": {
      "name": "Copia de MNIST_keras.ipynb",
      "provenance": [],
      "collapsed_sections": [],
      "include_colab_link": true
    },
    "kernelspec": {
      "name": "python3",
      "display_name": "Python 3"
    }
  },
  "cells": [
    {
      "cell_type": "markdown",
      "metadata": {
        "id": "view-in-github",
        "colab_type": "text"
      },
      "source": [
        "<a href=\"https://colab.research.google.com/github/kalebsampaco/DataEngineering_Platzi_Course/blob/master/Copia_de_MNIST_keras.ipynb\" target=\"_parent\"><img src=\"https://colab.research.google.com/assets/colab-badge.svg\" alt=\"Open In Colab\"/></a>"
      ]
    },
    {
      "cell_type": "markdown",
      "metadata": {
        "id": "lS4cvRmLmzwE"
      },
      "source": [
        "# NoteBook tutorial de Deep Learning; Redes Fully Conected\n",
        "\n",
        "## Alcance\n",
        "\n",
        "El alcance de este notebook es el de mostrar la teoria detras de las arquitecturas de redes neuronales Fully Conected, así como el de mostrar paso a paso como resolver un problema de identificación de digitos sencillo usando Keras.\n",
        "\n",
        "---\n",
        "\n",
        "### Introducción\n",
        "\n",
        "El deep learning es la disciplina de la inteligencía artificial que aprende automaticamente las caracterisitcas de un DataSet directamente de la data a distintos niveles de abstracción. Se dice que un algoritmo pertenece a esta categoria cuando hay más de una capa oculta entre la capa de entrada y de salida.\n",
        "\n",
        "En terminos de eficiencia es similar al del Machine Learning tradicional, si se abarca la misma cantidad de datos que este ultimo usa. Sin embargo al enfrentarse a problemas con máyor nivel de abstracción y manejo de datos el deep learning es superior, por esta razón es usado para analisis de imagen, texto, video y audio.\n",
        "\n",
        "![Dl-ML.png](https://preview.ibb.co/d3CEOH/1.png)\n",
        "\n",
        "Cuando se habla de máyor nivel de abstracción es dificil indicar un valor en sí, pero una heuristica es que se maneja alrededor de datos de un millon o más.\n",
        "\n",
        "![Dl-ML-2.png](https://preview.ibb.co/hgpNAx/2.png)\n",
        "\n",
        "Imagenes tomadas de Deep Learning Tutorial for beginners | Kaggle\n",
        "\n",
        "---\n",
        "\n",
        "Este notebook trabaja con el dataset MNIST Digits de Kaggle"
      ]
    },
    {
      "cell_type": "code",
      "metadata": {
        "id": "mPcMlu_iayUj",
        "colab": {
          "base_uri": "https://localhost:8080/",
          "height": 34
        },
        "outputId": "5e54b0b4-c68e-4747-8438-eeaf87472c94"
      },
      "source": [
        "from google.colab import drive\n",
        "drive.mount(\"/content/gdrive\")"
      ],
      "execution_count": null,
      "outputs": [
        {
          "output_type": "stream",
          "text": [
            "Drive already mounted at /content/gdrive; to attempt to forcibly remount, call drive.mount(\"/content/gdrive\", force_remount=True).\n"
          ],
          "name": "stdout"
        }
      ]
    },
    {
      "cell_type": "code",
      "metadata": {
        "id": "KqwTKMnoezkK",
        "colab": {
          "base_uri": "https://localhost:8080/",
          "height": 89
        },
        "outputId": "26d67302-ba4a-4f48-db7d-abb4f5ed43ae"
      },
      "source": [
        "import pandas as pd\n",
        "import numpy as np\n",
        "import matplotlib.pyplot as plt\n",
        "import matplotlib.image as mpimg\n",
        "import seaborn as sns\n",
        "%matplotlib inline\n",
        "\n",
        "np.random.seed(2)\n",
        "\n",
        "from sklearn.model_selection import train_test_split\n",
        "from sklearn.metrics import confusion_matrix\n",
        "import itertools\n",
        "\n",
        "from keras.utils.np_utils import to_categorical # convert to one-hot-encoding\n",
        "from keras.models import Sequential\n",
        "from keras.layers import Dense, Dropout, Flatten, Conv2D, MaxPool2D\n",
        "from keras.optimizers import RMSprop\n",
        "from keras.preprocessing.image import ImageDataGenerator\n",
        "from keras.callbacks import ReduceLROnPlateau"
      ],
      "execution_count": null,
      "outputs": [
        {
          "output_type": "stream",
          "text": [
            "/usr/local/lib/python3.6/dist-packages/statsmodels/tools/_testing.py:19: FutureWarning: pandas.util.testing is deprecated. Use the functions in the public API at pandas.testing instead.\n",
            "  import pandas.util.testing as tm\n",
            "Using TensorFlow backend.\n"
          ],
          "name": "stderr"
        }
      ]
    },
    {
      "cell_type": "code",
      "metadata": {
        "id": "jF98aF8bfKEK",
        "colab": {
          "base_uri": "https://localhost:8080/",
          "height": 34
        },
        "outputId": "1c6ffcd9-9497-4fba-ef89-40fab4b0175e"
      },
      "source": [
        "%cd \"/content/gdrive/My Drive/MNIST\""
      ],
      "execution_count": null,
      "outputs": [
        {
          "output_type": "stream",
          "text": [
            "/content/gdrive/My Drive/MNIST\n"
          ],
          "name": "stdout"
        }
      ]
    },
    {
      "cell_type": "markdown",
      "metadata": {
        "id": "6s3lC7Bfpk19"
      },
      "source": [
        "Como en todo problema de ML, DL. El primer paso es entender la naturaleza del problema y su relación con la data. Para el caso del DataSet MNIST - Digit, consta de un archivo en csv, donde la primera columna guarda la información de tipo de digito es: un numero del 0 al 9, mientras que las otras 784 columnas guardan la información de cada pixel, para una imagen de 28x28 de un solo canal. La información del csv es de tipo int."
      ]
    },
    {
      "cell_type": "code",
      "metadata": {
        "id": "E_UGU2NefWqI"
      },
      "source": [
        "train = pd.read_csv('./train/train.csv')\n",
        "test = pd.read_csv('./test/test.csv')"
      ],
      "execution_count": null,
      "outputs": []
    },
    {
      "cell_type": "code",
      "metadata": {
        "id": "NHF-SBVwfxBH",
        "colab": {
          "base_uri": "https://localhost:8080/",
          "height": 470
        },
        "outputId": "e3126eed-1e6d-4847-a52e-4a057a360757"
      },
      "source": [
        "Y_train = train[\"label\"]\n",
        "\n",
        "# Drop 'label' column\n",
        "X_train = train.drop(labels = [\"label\"],axis = 1) \n",
        "\n",
        "# free some space\n",
        "del train \n",
        "\n",
        "g = sns.countplot(Y_train)\n",
        "\n",
        "Y_train.value_counts()"
      ],
      "execution_count": null,
      "outputs": [
        {
          "output_type": "execute_result",
          "data": {
            "text/plain": [
              "1    4684\n",
              "7    4401\n",
              "3    4351\n",
              "9    4188\n",
              "2    4177\n",
              "6    4137\n",
              "0    4132\n",
              "4    4072\n",
              "8    4063\n",
              "5    3795\n",
              "Name: label, dtype: int64"
            ]
          },
          "metadata": {
            "tags": []
          },
          "execution_count": 5
        },
        {
          "output_type": "display_data",
          "data": {
            "image/png": "[encoded data removed]",
            "text/plain": [
              "<Figure size 432x288 with 1 Axes>"
            ]
          },
          "metadata": {
            "tags": [],
            "needs_background": "light"
          }
        }
      ]
    },
    {
      "cell_type": "code",
      "metadata": {
        "id": "SGsgm45wgZYZ",
        "colab": {
          "base_uri": "https://localhost:8080/",
          "height": 104
        },
        "outputId": "116c1974-c533-4516-e1b8-01b7b41afd61"
      },
      "source": [
        "# Check the data\n",
        "X_train.isnull().any().describe()"
      ],
      "execution_count": null,
      "outputs": [
        {
          "output_type": "execute_result",
          "data": {
            "text/plain": [
              "count       784\n",
              "unique        1\n",
              "top       False\n",
              "freq        784\n",
              "dtype: object"
            ]
          },
          "metadata": {
            "tags": []
          },
          "execution_count": 6
        }
      ]
    },
    {
      "cell_type": "code",
      "metadata": {
        "id": "73OPi3tuhNs-",
        "colab": {
          "base_uri": "https://localhost:8080/",
          "height": 104
        },
        "outputId": "06489c7a-662e-46e6-bd5f-4c0b5598d542"
      },
      "source": [
        "test.isnull().any().describe()"
      ],
      "execution_count": null,
      "outputs": [
        {
          "output_type": "execute_result",
          "data": {
            "text/plain": [
              "count       784\n",
              "unique        1\n",
              "top       False\n",
              "freq        784\n",
              "dtype: object"
            ]
          },
          "metadata": {
            "tags": []
          },
          "execution_count": 7
        }
      ]
    },
    {
      "cell_type": "markdown",
      "metadata": {
        "id": "MTdlJKlrpX5d"
      },
      "source": [
        "### Preparando la data\n",
        "\n",
        "Es una buena practica en DL, separar la data de entrada en dos sets uno de entrenamiento y otro de validación, esto con el proposito de evaluar la arquitectura de la red neuronal y hacer los ajustes nesesarios para evitar que esta se sobreajuste.\n",
        "\n",
        "Para este caso se puede usar la función de SciKit Learn train_test_split, la data se puede separar, 90% entrenamiento, 10% validación o 80% entrenamiento, 20% validación. Para este caso se usara 80-20.\n",
        "\n",
        "Por otra parte las redes nuronales trabajan mejor con datos normalizados, acotados en rangos pequeños. Los más comunes son de 0 a 1, -1 a 1 o -3 a 3. Para este caso se reducira de 0 a 1, diviendo por 255."
      ]
    },
    {
      "cell_type": "code",
      "metadata": {
        "id": "xikJTzv1hQon"
      },
      "source": [
        "# Normalize the data\n",
        "X_train = X_train / 255.0\n",
        "test = test / 255.0"
      ],
      "execution_count": null,
      "outputs": []
    },
    {
      "cell_type": "code",
      "metadata": {
        "id": "COAotxRphV-P"
      },
      "source": [
        "# Reshape image in 3 dimensions (height = 28px, width = 28px , canal = 1)\n",
        "X_train = X_train.values.reshape(-1,28,28,1)\n",
        "test = test.values.reshape(-1,28,28,1)"
      ],
      "execution_count": null,
      "outputs": []
    },
    {
      "cell_type": "code",
      "metadata": {
        "id": "gExArGzjhZPe"
      },
      "source": [
        "# Encode labels to one hot vectors (ex : 2 -> [0,0,1,0,0,0,0,0,0,0])\n",
        "Y_train = to_categorical(Y_train, num_classes = 10)"
      ],
      "execution_count": null,
      "outputs": []
    },
    {
      "cell_type": "code",
      "metadata": {
        "id": "OJ9KyeFqhc5J"
      },
      "source": [
        "# Set the random seed\n",
        "random_seed = 2"
      ],
      "execution_count": null,
      "outputs": []
    },
    {
      "cell_type": "code",
      "metadata": {
        "id": "q8HSMUfphgcN"
      },
      "source": [
        "# Split the train and the validation set for the fitting\n",
        "X_train, X_val, Y_train, Y_val = train_test_split(X_train, Y_train, test_size = 0.1, random_state=random_seed)"
      ],
      "execution_count": null,
      "outputs": []
    },
    {
      "cell_type": "code",
      "metadata": {
        "id": "VXVV-prWhjQu",
        "colab": {
          "base_uri": "https://localhost:8080/",
          "height": 265
        },
        "outputId": "654c0343-c218-4535-ed82-227b3066010f"
      },
      "source": [
        "# Some examples\n",
        "g = plt.imshow(X_train[0][:,:,0])"
      ],
      "execution_count": null,
      "outputs": [
        {
          "output_type": "display_data",
          "data": {
            "image/png": "[encoded data removed]",
            "text/plain": [
              "<Figure size 432x288 with 1 Axes>"
            ]
          },
          "metadata": {
            "tags": [],
            "needs_background": "light"
          }
        }
      ]
    },
    {
      "cell_type": "markdown",
      "metadata": {
        "id": "b9_DJy83qepW"
      },
      "source": [
        "### Entendiendo las redes neuronales\n",
        "\n",
        "Antes de analizar la arquitectura para este DataSet, vamos a hacer un repaso general detras de la teoria de grafos.\n",
        "\n",
        "#### Grafos\n",
        "\n",
        "Los grafos son estrucutaras dinamicas con una relación no líneal que permiten representar relaciones binarias entre elementos de un conjunto, sin embargo esta explicación es un poco vaga. Para mí son una excelente herramienta en computación para representar graficamente expresiones matematicas.\n",
        "\n",
        "Por ejemplo la expresión:\n",
        "\n",
        ">$c=\\sqrt{a²+b²}$\n",
        "\n",
        "Se puede expresar con el siguiente grafo:\n",
        "\n",
        "![Graph.jpg](https://image.ibb.co/hWn6Lx/d.jpg)\n",
        "\n",
        "Las redes neuronales multiples se apoyan fuertemente en la regresión lineal multiple. Como ejemplo usando el dataset SIGNS de clase, el grafo para expresar la operación matematica de si una imagen es la representación de uno o no sería este:\n",
        "\n",
        "![Graph%20signs%20one.jpg](https://preview.ibb.co/cxP63H/5.jpg)\n",
        "\n",
        "Donde la capa de entrada está compuesta del valor numerico de cada pixel y cada uno tiene asignado un peso. Volviendo a nuestro ejercicio, recordemos que las 784 columnas de cada DataSet contienen la información de cada pixel, esto nos lleva a concluir dos cosas:\n",
        "\n",
        "1. La capa de entrada es un tensor de una sola dimensión, usualmente un tensor largo donde se encuentra de forma secuencial la información a procesar, en el caso de las imagenes, la información de cada pixel.\n",
        "2. Ya los datasets, están listos para ser procesados por una red neuronal.\n",
        "\n",
        "#### La red neuronal\n",
        "\n",
        "Las redes neuronales artificiales o redes fully connected emulan el funcionamiento de las redes neuronas humanas. La neurona tiene un grupo de señales de entrada y una sola salida.\n",
        "\n",
        "![Perceptron.png](https://external-content.duckduckgo.com/iu/?u=https%3A%2F%2Ftse1.mm.bing.net%2Fth%3Fid%3DOIP.YPguig_eDkgWi5cgvWiUBgHaEB%26pid%3DApi&f=1)\n",
        "\n",
        "A este grafo se le conoce como perceptron. Sin embargo así como una neurona no es un cerebro humano, un perceptron por si solo no es una red neuronal artificial.\n",
        "\n",
        "#### Capas ocultas\n",
        "\n",
        "Volviendo al ejemplo del dataset Signs, surge la duda ¿Qué estoy detectando con mi grafo original? la respuesta sería caracteristicas, sin embargo son caracteristicas básicas, los contornos de la imagen para ser exactos. Estas formas por si solas solo me dan una probabilidad del 50% de dicernir si la imagen es un uno o no, un resultado mediocre, es acá donde nos volvemos a apoyar en la naturaleza para mejorar nuestro resultado. \n",
        "\n",
        "Existe un concepto en el mundo natural llamado emergencia, cuando organismos simples se agrupan de forma organizada para asegurar su supervivencia, esto se puede observar en una colina de hormigas, una hormiga por si sola, es debil, una colina de hormigas puede realizar estructuras subterraneas complejas para garantizar su supervivencia. \n",
        "\n",
        "Así que si entre mi capa de entrada y salida inserto una capa adicional que me perimita detectar formas más complejas podria no solo detectar los contornos sino también formas convexas y caracterisitcas unicas como el dedo gordo de la mano.\n",
        "\n",
        "![Capas%20ocultas.jpg](https://preview.ibb.co/mpD4Qx/10.jpg)\n",
        "\n",
        "A esta capa se le conoce como capa oculta, se dice que es oculta porque sus valores de entrada no son los inputs obtenidos del dataset, son ocultos tanto para el usuario como para el programador.\n",
        "\n",
        "Ahora, si recordamos el principio detras de las redes neuronales su esqueleto es el de una regresión lineal multiple, así mismo no serviria incluir una capa oculta entre la entrada y la salida simplemente, estas colapsarian en un perceptron gigante, que no nos aportaria nada. Se hace nesesario incluir una función de activación entre la capa oculta y la capa de salida para que distorsione la naturaleza lineal entre las capas y nos permita obtener la extracción de caracteristicas que nesecitamos.\n",
        "\n",
        "Este seria el grafo de una red con dos perceptrones:\n",
        "\n",
        "![Multi-perceptron.jpg](https://preview.ibb.co/dajVyH/9.jpg)\n",
        "\n",
        "Ahora recordemos, que cada input o neurona tiene asociado un peso, no sería util y en realidad seria bastante tedioso asignar manualmente el peso de cada uno. Es acá donde entra el concepto de inteligencia artificial, es más util que sea el computador el que decida que peso debe tener cada neurona. \n",
        "\n",
        "#### Backpropagation\n",
        "\n",
        "Esto es posible con el algoritmo de BackPropagation. Este algoritmo es la base del exito de las redes neuronales. Este evalua de acuerdo al resultado final de la red capa por capa cual es el peso adecuado que debe tener cada neurona. Este proceso es iterativo a mayores iteraciones, mejores resultados. Un recorrido por el dataset se conoce como epoca(epoch).\n",
        "\n",
        "Bajo este escenario se puede categorizar a las redes neuronales como algoritmos de aprendizaje supervizados.\n",
        "\n",
        "Es importante recordar acá los conceptos de sobreajuste(overfitting) y subajuste(underfitting), existen varias formas de monitorear el desempeño de una red en relación a estos dos conceptos, la mejor forma es visual.\n",
        "\n",
        "Aprendizaje con sobreajuste:\n",
        "\n",
        "![Sobreajuste.png](https://developers.google.com/machine-learning/crash-course/images/RegularizationTwoLossFunctions.svg)\n",
        "\n",
        "Aprendizaje con subajuste:\n",
        "\n",
        "![Subajuste.png](https://c.mql5.com/2/30/SRBM_9_upperLayer_9_RP.png)\n",
        "\n",
        "Aprendizaje optimo:\n",
        "\n",
        "![Buen%20ajuste.png](https://c.mql5.com/2/30/SRBM_b_RP.png)\n",
        "\n",
        "Es importante definir las epocas suficientes para que un modelo se entrene, un valor comun para empezar es 100 epochs.\n",
        "\n",
        "En caso de que un modelo presente subajuste se recomienda:\n",
        "\n",
        "* Aumentar la cantidad de capas.\n",
        "* Agregar más neuronas por capa.\n",
        "* Aumentar el numero de epocas\n",
        "* Eligir un metodo de optimización más complejo\n",
        "\n",
        "En casode que un modelo presente sobreajuste se recomienda:\n",
        "\n",
        "* Entrenar con más datos\n",
        "* Utilizar técnicas de regularización.\n",
        "\n",
        "En base a esta definición se nesecita entonces definir una función matematica que evalue el error de de la red y un optimizador que minimice el error de esta. O dicho de otra forma que determine los parametros en los que la función de error sea mínima.\n",
        "\n",
        "#### Optimizadores y funciones de perdida o coste\n",
        "\n",
        "El optimizador más comun es SGD (Stochastic Gradient Descent).\n",
        "\n",
        "![SGD.jpg](https://image.ibb.co/dAaYJH/7.jpg)\n",
        "\n",
        "No obstante existen varios optimizadores, siendo el favorito de la comunidad Adam, que combina los principios matematicos de Momentum y AdaBoost.\n",
        "\n",
        "En estos links de youtube hay más información sobre cada uno:\n",
        "\n",
        "Adaboost\n",
        "https://www.youtube.com/watch?v=LsK-xG1cLYA\n",
        "\n",
        "Momentum\n",
        "https://www.youtube.com/watch?v=6iwvtzXZ4Mo\n",
        "\n",
        "La información hasta al momento nos lleva a concluir dos conceptos adicionales:\n",
        "\n",
        "1. Se debe definir la función matematica adecuada para determinar el error de la red neuronal\n",
        "2. Se debe definir las funciones de activación de las capas ocultas y la capa final para evitar que la red neuronal colapse en un perceptron gigante.\n",
        "\n",
        "La función que determina el error de la red se conoce como función de perdidad. Esta y las funciones de activación están muy relacionadas a la naturaleza del problema, según la experiencia general de la comunidad los problemas más comunes y sus funciones son:\n",
        "\n",
        "* Problemas de regressión simple: Para este caso la ultima capa tiene una neurona, no se hace nesesario definir una función de activación final, la función de activación intermedia es ReLU y su función de perdida es el error cuadratico promedio.\n",
        "* Problemas de clasificación binaria: La ultima capa tiene una neurona, la función de activación final es sigmoide o log_sigmoide, la función de activación intermedia es ReLU o Tanh y su función de perdida es entropia cruzada binaria. Se puede usar entropia cruzada pero cambiando la ultima capa a dos valores y sustrayendo la función de activación sigmoide.\n",
        "* Problemas de clasificación multiclase una sola label(etiqueta): El numero de neuronas en la capa de salida es igual la numero de clases a clasificar, la función de activación final es softmax o log-softmax, la función de activación intermedia es ReLU o Tanh y su función de perdida final es NLL(Negative log-likelihood) o entropia cruzada.\n",
        "* Problemas de clasificación multiclase y multilabel(varias etiquetas): El numero de neuronas en la capa de salida es igual la numero de clases a clasificar, la función de activación final es sigmoide o log-sigmoide, la función de activación intermedia es ReLU o Tanh y su función de perdida final es entropia cruzada bianaria.\n",
        "\n",
        "#### Hiperparametros\n",
        "\n",
        "En este punto podemos inferir que existen parametros nesesarios para la correcta operación de una red neuronal, pero que no existe una forma presisa de definirlos, su selección se determina más por prueba y error, estos son en orden de importancía:\n",
        "\n",
        "* Learning rate\n",
        "* Optimizador\n",
        "* Mini-batch-size\n",
        "* Cantidad de neuronas en capas ocultas\n",
        "* Cantidad de capas ocultas\n",
        "\n",
        "Como técnicas de definición de hiperparametros están:\n",
        "\n",
        "* Forma manual\n",
        "* Forma aleatoria\n",
        "* Metodos Bayesianos\n",
        "\n",
        "La más usada es la forma aleatoria y por hiperparametro, los metodos manuales son engorrosos y los metodos bayesianos, son computacionalmente costosos; aunque potentes.\n",
        "\n",
        "-------------\n",
        "\n",
        "### Redes convolucionales vs redes multi-capa(fully conected)\n",
        "\n",
        "En el tutorial anterior vimos como las redes multicapa son poderosas por si solas,logrando una presición del 90% sin mucho esfuerzo. Resulta que en el ambito profesional donde se maneja información más compleja, por si solas no son tan utiles, la raiz principal de este problema es que el input de estos algoritmos es un vector plano que contenga toda la información pertinente. En el problema anterior fue sencillo solucionar el problema dado que el dataset de MNIST digit son vecotores planos con toda la información pertinente de la imagen. En el mundo real el input va a ser una imagen a color o en el mejor de los casos una imagen a blanco y negro. Esto se traduce en el mejor de los casos un tensor de 32x32x1 y en el peor un tensor de 32x32x3, esto asumiendo que la imagen es pequeña, usualmente tampoco es así. Ambos casos tienen como input algo muy diferentes a un vector plano.\n",
        "\n",
        "La solución más sencilla seria aplanar el tensor, sin embargo al hacer esto se pierde información importante para el analisis, los contrastes de luz y sombras que estan embebidos en los arreglos de pixeles, es acá donde entran las redes convolucionales.\n",
        "\n",
        "A través de la operación matematica de convolución se le aplican filtros a la imagen que permiten conservar estos contrastes en un valor numerico que conserva la información y si se puede aplanar.\n",
        "\n",
        "#### Entendiendo las redes convolucionales\n",
        "\n",
        "Las redes convolucionales usan tres tipos de capas para operar:\n",
        "\n",
        "* Capas Convolucionales\n",
        "* Capas de Pooling\n",
        "* Capas profundas (fully conected)\n",
        "\n",
        "Vamos a revisar cada una en detalle:\n",
        "\n",
        "![CNN_car.png](https://s3.amazonaws.com/video.udacity-data.com/topher/2018/May/5b1070e4_screen-shot-2018-05-31-at-2.59.36-pm/screen-shot-2018-05-31-at-2.59.36-pm.png)\n",
        "\n",
        "##### La capa convolucional\n",
        "\n",
        "Para entender el concepto de capa convolucional primero se hace nesesario entender el concepto de filtros, En especifico los llamados high-pass filters.\n",
        "\n",
        "Para detectar cambios de intensidad dentro de una imagen se hace nesesario crear filtros especificos que buscan grupos de pixeles y reaccionan a patrones alternos de luz y sombra en la imagen. Estos filtros producen una salida que muestra los bordes de objetos y de diferentes texturas. Aća la diferencia con las redes fully connected que a medida que amuentan sus capas aumentan también su abastracción de bordes, las convoluciones permiten incluir las texturas a la ecuación. \n",
        "\n",
        "Estos filtros se construyen de acuerdo a un tamaño, conocido como tamaño de ventana. que no es nada más que una matriz como esta:\n",
        "\n",
        "![giphy.gif](https://media.giphy.com/media/jrzu0JxxZydz0valeu/giphy.gif)\n",
        "\n",
        "Estas ventanas tienen un tamaño usualmente de 3x3 que le ayuda a la red convolucional a identificar patrones en una imagen. Estos filtros a su vez pueden ser modificados para obtener diferentes filtros en la salida, es comun que en una red convolucional haya una gran cantidad de filtros, la agrupación de estos se conoce como kernel.\n",
        "\n",
        "![kernels_CNN.png](https://s3.amazonaws.com/video.udacity-data.com/topher/2018/May/5b10723a_screen-shot-2018-05-31-at-3.06.07-pm/screen-shot-2018-05-31-at-3.06.07-pm.png)\n",
        "\n",
        "En la figura mostrada 4 diferentes filtros producen cuatro imagenes filtradas, cuando apilamos estas imagenes formamos una red convolucional de profundidad igual a cuatro.\n",
        "\n",
        "![CNN%20depth.png](https://s3.amazonaws.com/video.udacity-data.com/topher/2018/May/5b10729b_screen-shot-2018-05-31-at-3.07.03-pm/screen-shot-2018-05-31-at-3.07.03-pm.png)\n",
        "\n",
        "La profundidad de cada capa arreglada de manera consecutiva produce una red capaz de identificar patrones y caracteristicas increiblemente complejas, de la misma forma en la que nuestro cerebro interpreta lo que vemos.\n",
        "\n",
        "Hay otros dos conceptos secundarios al definir una convolución, que sin embargo bien usados pueden mejorar o empeorar una red.\n",
        "\n",
        "El primero es stride, el stride es el paso del filtro por la imagen, como valor default se usa 1, esto se traduce en un filtro que avanza pixel por pixel. Si se cambiase a dos el kernel avanzaria cada dos pixeles.\n",
        "\n",
        "El segundo concepto es el de padding, si has trabajado en diseño frontend web tal vez te suene familiar la idea. En redes convolucionales es el siguiente: los filtros usualmente son matrices cuadradas, sin embargo al operar en una matriz no cuadrada se presentan problemas en la operación de convolución, para estos casos que son la gran mayoria, se aplica un relleno alrededor de la imagen, este relleno es el padding, el valor default es 1,aunque también se puede trabajar con 0.\n",
        "\n",
        "##### Max Pooling\n",
        "\n",
        "Bien ya tenemos una red capaz de detectar los patrones y caracteristicas, que nuestra red neuronal multiple por si sola no hubise podido. Sin embargo si procesamos esta información como esta nuestro algoritmo pude demorarse eternidades en procesarse o no tener memoria para lograrlo. Es acá dondeentran las capas de pooling o Max Pool.\n",
        "\n",
        "La operación de Pooling es usada en las redes convolucionales para hacer la detección de ciertas caracteristicas que podrián considerarse constantes en escala y cambios de orientación. Otra manera de entender este concepto es ver a la operación como una manera de generalizar información compleja sobre bajos niveles.\n",
        "\n",
        "Similar a la convolución, la operación consiste de una ventana de tamaño fijo que recorre la imagen y dentro de la ventana cálcula un valor de acuerdo a la metrica que está establecida para esta operación. Como resultado obtiene un nuevo tensor.\n",
        "\n",
        "Cuando la metrica consiste en encontrar el máximo valor de la ventana, la operación se conoce como Max Pooling. También existe Average Pooling que determina el valor promedio. Como alternativa a la operación de pooling existe un concepto llamado redes de capsula, en la siguiente imagen se muestra la operación de max pool.\n",
        "\n",
        "![giphy-pool.gif](https://media.giphy.com/media/U7PsR7cv9oIcB6eEAd/giphy.gif)\n",
        "\n",
        "Cuando combinamos las capas de Pooling con las capas convolucionales reducimos la dimensión de la información, solucionando el problema de capacidad computacional y garantizando que la información procesada sea la de mayor importancia minimzando la perdida de la misma.\n",
        "\n",
        "Asi nuestro modelo se transforma en algo así:\n",
        "\n",
        "![Cn%20y%20Maxpool.png](https://i.ibb.co/V06mcY0/Intro-to-Deep-Learning-with-Py-Torch-Udacity-classroom-udacity-com.png)\n",
        "\n",
        "##### Capas profundas\n",
        "\n",
        "Las capas profundas son las que ya conocemos y es la ultima pieza de una red Convolucional. Así la arquitectura de nuestra red sería algo así:\n",
        "\n",
        "![CNN.png](https://cs231n.github.io/assets/cnn/convnet.jpeg)\n",
        "\n",
        "Una vez ya entendemos como funciona una red convolucional es hora de definir su arquitectura.\n",
        "\n",
        "Para la solucióón de este problema se define una arquitectura de dos capas convolucionales con maxpool, una red neuronal con dos capas ocultas y como metodo de regularización Dropout. Como es una problema de clasificación multiclase, la función de activación para la capa final es softmax y la funcióón de activación para las capas intermedias es ReLU \n"
      ]
    },
    {
      "cell_type": "code",
      "metadata": {
        "id": "Junl0x6vhpaw"
      },
      "source": [
        "# Set the CNN model \n",
        "# my CNN architechture is In -> [[Conv2D->relu]*2 -> MaxPool2D -> Dropout]*2 -> Flatten -> Dense -> Dropout -> Out\n",
        "\n",
        "model = Sequential()\n",
        "\n",
        "model.add(Conv2D(filters = 32, kernel_size = (5,5),padding = 'Same', \n",
        "                 activation ='relu', input_shape = (28,28,1)))\n",
        "model.add(Conv2D(filters = 32, kernel_size = (5,5),padding = 'Same', \n",
        "                 activation ='relu'))\n",
        "model.add(MaxPool2D(pool_size=(2,2)))\n",
        "model.add(Dropout(0.25))\n",
        "\n",
        "\n",
        "model.add(Conv2D(filters = 64, kernel_size = (3,3),padding = 'Same', \n",
        "                 activation ='relu'))\n",
        "model.add(Conv2D(filters = 64, kernel_size = (3,3),padding = 'Same', \n",
        "                 activation ='relu'))\n",
        "model.add(MaxPool2D(pool_size=(2,2), strides=(2,2)))\n",
        "model.add(Dropout(0.25))\n",
        "\n",
        "\n",
        "model.add(Flatten())\n",
        "model.add(Dense(256, activation = \"relu\"))\n",
        "model.add(Dropout(0.5))\n",
        "model.add(Dense(10, activation = \"softmax\"))"
      ],
      "execution_count": null,
      "outputs": []
    },
    {
      "cell_type": "markdown",
      "metadata": {
        "id": "Uxi9ccQt1hVf"
      },
      "source": [
        "Una vez definida la arquitectura el siguiente paso es definir la metrica de evaluación, la función de perdida y el algoritmo de optimización.\n",
        "\n",
        "La función de perdida es la encargada de medir que tan pobre es el desempeño de nuestra red a la hora de predecir el contenido de una imagen con una etiqueta conocida. Para este caso especifico escogí una forma de clasificación categorica llamada \"categorical_crossentropy\".\n",
        "\n",
        "El siguiente paso es definir el algoritmo de optimizacióón, este es el paso más importante. Ya que este tiene la tarea de mejorar en cada iteración parametros como: valores de los filtros, pesos de neuronas, cesgo de neuronas, etc. Todo esto buscando minimizar la funcióón de perdida.\n",
        "\n",
        "Para este caso escogí un sabor particular de Adam llamado RMSprop con sus valores por default. Otra opcióón puede ser SGD, pero es máás demorado.\n",
        "\n",
        "Por ultimo se define la metrica de evalucióm, para este caso por accuracy.\n",
        "\n",
        "----\n",
        "Para optimizar los hiperparametros, en este caso usare un metodo de keras llamado ReduceLROnPlateau, esta poderosa herramienta me permite decrementar el leraning rate durante el entrenamiento con la condición de si no se presentan mejoras en el accuracy despues de dos epocas. Este metodo combina la busqueda aleatoria de hiperparametros como es el RandomGridSearch con metodos de montecarlo. De esta manera se logra aprovechar la velocidad de computo de la busqueda aletoria garantizando resultados que no caigan en minimos locales, en el siguiente enlace esta la información de este metodo para elque le interese:\n",
        "\n",
        "https://keras.io/api/callbacks/reduce_lr_on_plateau/\n",
        "\n",
        "\n",
        "\n",
        "\n",
        "\n",
        "\n",
        "\n"
      ]
    },
    {
      "cell_type": "code",
      "metadata": {
        "id": "HgWfKbEvhwAA"
      },
      "source": [
        "# Define the optimizer\n",
        "optimizer = RMSprop(lr=0.001, rho=0.9, epsilon=1e-08, decay=0.0)"
      ],
      "execution_count": null,
      "outputs": []
    },
    {
      "cell_type": "code",
      "metadata": {
        "id": "IadUxDHzh2bl"
      },
      "source": [
        "# Compile the model\n",
        "model.compile(optimizer = optimizer , loss = \"categorical_crossentropy\", metrics=[\"accuracy\"])"
      ],
      "execution_count": null,
      "outputs": []
    },
    {
      "cell_type": "code",
      "metadata": {
        "id": "Nk34gmUrh5mX"
      },
      "source": [
        "# Set a learning rate annealer\n",
        "learning_rate_reduction = ReduceLROnPlateau(monitor='val_acc', \n",
        "                                            patience=3, \n",
        "                                            verbose=1, \n",
        "                                            factor=0.5, \n",
        "                                            min_lr=0.00001)"
      ],
      "execution_count": null,
      "outputs": []
    },
    {
      "cell_type": "code",
      "metadata": {
        "id": "2K4Pu8LLiB1G"
      },
      "source": [
        "epochs = 30 \n",
        "batch_size = 86"
      ],
      "execution_count": null,
      "outputs": []
    },
    {
      "cell_type": "markdown",
      "metadata": {
        "id": "3z21LPCs5gT_"
      },
      "source": [
        "### Data Augmentation\n",
        "\n",
        "Una técnica de regularización exclusiva para imagenes es el data augmentation, una buena heuristica para detrminar su uso o no, es analizar el dataset y detrminar si la información de entrenamiento es mayor al 90%. La mejor forma de entender sus técncias de uso es entender como se maneja una imagen, más información aqui:\n",
        "\n",
        "https://scikit-image.org/docs/dev/auto_examples/index.html\n",
        "\n",
        "Usar estas técnicas requiere más capacidad de computo, pero pueden elevar un accuracy de 0.97 a 0.99\n",
        "\n",
        "para este caso las operaciónes que escogí fueron:\n",
        "\n",
        "* Aleatoriamente rotar algunas imagenes de entrenamiento 10 grados.\n",
        "* Aleatoriamente hacer zoom en 10% a algunas imagenes de entrenamiento\n",
        "* Aleatoriamente cambiar el ancho de imagenes en un 10%\n",
        "* Aleatoriamente cambiar el alto de imagenes en un 10%\n",
        "\n",
        "No obstante el limite de operaciones lo define la imaginación."
      ]
    },
    {
      "cell_type": "code",
      "metadata": {
        "id": "vyB7pz2JiJ6f"
      },
      "source": [
        "# With data augmentation to prevent overfitting (accuracy 0.99286)\n",
        "\n",
        "datagen = ImageDataGenerator(\n",
        "        featurewise_center=False,  # set input mean to 0 over the dataset\n",
        "        samplewise_center=False,  # set each sample mean to 0\n",
        "        featurewise_std_normalization=False,  # divide inputs by std of the dataset\n",
        "        samplewise_std_normalization=False,  # divide each input by its std\n",
        "        zca_whitening=False,  # apply ZCA whitening\n",
        "        rotation_range=10,  # randomly rotate images in the range (degrees, 0 to 180)\n",
        "        zoom_range = 0.1, # Randomly zoom image \n",
        "        width_shift_range=0.1,  # randomly shift images horizontally (fraction of total width)\n",
        "        height_shift_range=0.1,  # randomly shift images vertically (fraction of total height)\n",
        "        horizontal_flip=False,  # randomly flip images\n",
        "        vertical_flip=False)  # randomly flip images\n",
        "\n",
        "\n",
        "datagen.fit(X_train)"
      ],
      "execution_count": null,
      "outputs": []
    },
    {
      "cell_type": "markdown",
      "metadata": {
        "id": "_kp7TvpI7wOB"
      },
      "source": [
        "### Entrenando el modelo"
      ]
    },
    {
      "cell_type": "code",
      "metadata": {
        "id": "aykXqrPKiSB7",
        "colab": {
          "base_uri": "https://localhost:8080/",
          "height": 1000
        },
        "outputId": "49e4f52f-cfb7-4f26-ca71-5afac1e5ea44"
      },
      "source": [
        "# Fit the model\n",
        "history = model.fit_generator(datagen.flow(X_train,Y_train, batch_size=batch_size),\n",
        "                              epochs = epochs, validation_data = (X_val,Y_val),\n",
        "                              verbose = 2, steps_per_epoch=X_train.shape[0] // batch_size\n",
        "                              , callbacks=[learning_rate_reduction])"
      ],
      "execution_count": null,
      "outputs": [
        {
          "output_type": "stream",
          "text": [
            "Epoch 1/30\n",
            " - 244s - loss: 0.4232 - accuracy: 0.8637 - val_loss: 0.0825 - val_accuracy: 0.9740\n",
            "Epoch 2/30\n"
          ],
          "name": "stdout"
        },
        {
          "output_type": "stream",
          "text": [
            "/usr/local/lib/python3.6/dist-packages/keras/callbacks/callbacks.py:1042: RuntimeWarning: Reduce LR on plateau conditioned on metric `val_acc` which is not available. Available metrics are: val_loss,val_accuracy,loss,accuracy,lr\n",
            "  (self.monitor, ','.join(list(logs.keys()))), RuntimeWarning\n"
          ],
          "name": "stderr"
        },
        {
          "output_type": "stream",
          "text": [
            " - 241s - loss: 0.1292 - accuracy: 0.9615 - val_loss: 0.0423 - val_accuracy: 0.9871\n",
            "Epoch 3/30\n",
            " - 243s - loss: 0.0972 - accuracy: 0.9711 - val_loss: 0.0286 - val_accuracy: 0.9921\n",
            "Epoch 4/30\n",
            " - 247s - loss: 0.0796 - accuracy: 0.9766 - val_loss: 0.0296 - val_accuracy: 0.9912\n",
            "Epoch 5/30\n",
            " - 244s - loss: 0.0737 - accuracy: 0.9789 - val_loss: 0.0278 - val_accuracy: 0.9912\n",
            "Epoch 6/30\n",
            " - 247s - loss: 0.0647 - accuracy: 0.9808 - val_loss: 0.0444 - val_accuracy: 0.9879\n",
            "Epoch 7/30\n",
            " - 242s - loss: 0.0628 - accuracy: 0.9821 - val_loss: 0.0227 - val_accuracy: 0.9933\n",
            "Epoch 8/30\n",
            " - 246s - loss: 0.0624 - accuracy: 0.9826 - val_loss: 0.0251 - val_accuracy: 0.9926\n",
            "Epoch 9/30\n",
            " - 249s - loss: 0.0583 - accuracy: 0.9834 - val_loss: 0.0217 - val_accuracy: 0.9924\n",
            "Epoch 10/30\n",
            " - 243s - loss: 0.0594 - accuracy: 0.9835 - val_loss: 0.0310 - val_accuracy: 0.9912\n",
            "Epoch 11/30\n",
            " - 246s - loss: 0.0598 - accuracy: 0.9835 - val_loss: 0.0203 - val_accuracy: 0.9938\n",
            "Epoch 12/30\n",
            " - 245s - loss: 0.0603 - accuracy: 0.9831 - val_loss: 0.0242 - val_accuracy: 0.9933\n",
            "Epoch 13/30\n",
            " - 244s - loss: 0.0593 - accuracy: 0.9829 - val_loss: 0.0400 - val_accuracy: 0.9900\n",
            "Epoch 14/30\n",
            " - 249s - loss: 0.0625 - accuracy: 0.9831 - val_loss: 0.0198 - val_accuracy: 0.9950\n",
            "Epoch 15/30\n",
            " - 243s - loss: 0.0592 - accuracy: 0.9838 - val_loss: 0.0188 - val_accuracy: 0.9936\n",
            "Epoch 16/30\n",
            " - 245s - loss: 0.0606 - accuracy: 0.9843 - val_loss: 0.0332 - val_accuracy: 0.9912\n",
            "Epoch 17/30\n",
            " - 241s - loss: 0.0628 - accuracy: 0.9835 - val_loss: 0.0231 - val_accuracy: 0.9936\n",
            "Epoch 18/30\n",
            " - 242s - loss: 0.0633 - accuracy: 0.9834 - val_loss: 0.0360 - val_accuracy: 0.9929\n",
            "Epoch 19/30\n",
            " - 244s - loss: 0.0642 - accuracy: 0.9833 - val_loss: 0.0201 - val_accuracy: 0.9955\n",
            "Epoch 20/30\n",
            " - 242s - loss: 0.0653 - accuracy: 0.9834 - val_loss: 0.0439 - val_accuracy: 0.9883\n",
            "Epoch 21/30\n",
            " - 242s - loss: 0.0630 - accuracy: 0.9829 - val_loss: 0.0212 - val_accuracy: 0.9940\n",
            "Epoch 22/30\n",
            " - 243s - loss: 0.0712 - accuracy: 0.9819 - val_loss: 0.0254 - val_accuracy: 0.9940\n",
            "Epoch 23/30\n",
            " - 248s - loss: 0.0663 - accuracy: 0.9831 - val_loss: 0.0260 - val_accuracy: 0.9933\n",
            "Epoch 24/30\n",
            " - 245s - loss: 0.0650 - accuracy: 0.9832 - val_loss: 0.0294 - val_accuracy: 0.9936\n",
            "Epoch 25/30\n",
            " - 249s - loss: 0.0697 - accuracy: 0.9826 - val_loss: 0.0249 - val_accuracy: 0.9940\n",
            "Epoch 26/30\n",
            " - 244s - loss: 0.0715 - accuracy: 0.9820 - val_loss: 0.0228 - val_accuracy: 0.9943\n",
            "Epoch 27/30\n",
            " - 245s - loss: 0.0677 - accuracy: 0.9827 - val_loss: 0.0240 - val_accuracy: 0.9936\n",
            "Epoch 28/30\n",
            " - 248s - loss: 0.0690 - accuracy: 0.9827 - val_loss: 0.0216 - val_accuracy: 0.9948\n",
            "Epoch 29/30\n",
            " - 244s - loss: 0.0736 - accuracy: 0.9824 - val_loss: 0.0542 - val_accuracy: 0.9910\n",
            "Epoch 30/30\n",
            " - 248s - loss: 0.0776 - accuracy: 0.9816 - val_loss: 0.0246 - val_accuracy: 0.9931\n"
          ],
          "name": "stdout"
        }
      ]
    },
    {
      "cell_type": "markdown",
      "metadata": {
        "id": "udRrsYax72Qw"
      },
      "source": [
        "### Evaluando el modelo, matriz de confución\n",
        "\n",
        "La matriz de confución es una herramienta excelente para evaluar la presición y sensibilidad de un modelo. El siguiente codigo imprime la matriz."
      ]
    },
    {
      "cell_type": "code",
      "metadata": {
        "id": "dr7xPS0kjy2U"
      },
      "source": [
        "# Look at confusion matrix \n",
        "\n",
        "def plot_confusion_matrix(cm, classes,\n",
        "                          normalize=False,\n",
        "                          title='Confusion matrix',\n",
        "                          cmap=plt.cm.Blues):\n",
        "    \"\"\"\n",
        "    This function prints and plots the confusion matrix.\n",
        "    Normalization can be applied by setting `normalize=True`.\n",
        "    \"\"\"\n",
        "    plt.imshow(cm, interpolation='nearest', cmap=cmap)\n",
        "    plt.title(title)\n",
        "    plt.colorbar()\n",
        "    tick_marks = np.arange(len(classes))\n",
        "    plt.xticks(tick_marks, classes, rotation=45)\n",
        "    plt.yticks(tick_marks, classes)\n",
        "\n",
        "    if normalize:\n",
        "        cm = cm.astype('float') / cm.sum(axis=1)[:, np.newaxis]\n",
        "\n",
        "    thresh = cm.max() / 2.\n",
        "    for i, j in itertools.product(range(cm.shape[0]), range(cm.shape[1])):\n",
        "        plt.text(j, i, cm[i, j],\n",
        "                 horizontalalignment=\"center\",\n",
        "                 color=\"white\" if cm[i, j] > thresh else \"black\")\n",
        "\n",
        "    plt.tight_layout()\n",
        "    plt.ylabel('True label')\n",
        "    plt.xlabel('Predicted label')"
      ],
      "execution_count": null,
      "outputs": []
    },
    {
      "cell_type": "code",
      "metadata": {
        "id": "bVR3aN3okCZp",
        "colab": {
          "base_uri": "https://localhost:8080/",
          "height": 311
        },
        "outputId": "4a13dd6b-e718-4a54-eaf3-790ceaeccb5d"
      },
      "source": [
        "# Predict the values from the validation dataset\n",
        "Y_pred = model.predict(X_val)\n",
        "# Convert predictions classes to one hot vectors \n",
        "Y_pred_classes = np.argmax(Y_pred,axis = 1) \n",
        "# Convert validation observations to one hot vectors\n",
        "Y_true = np.argmax(Y_val,axis = 1) \n",
        "# compute the confusion matrix\n",
        "confusion_mtx = confusion_matrix(Y_true, Y_pred_classes) \n",
        "# plot the confusion matrix\n",
        "plot_confusion_matrix(confusion_mtx, classes = range(10))"
      ],
      "execution_count": null,
      "outputs": [
        {
          "output_type": "display_data",
          "data": {
            "image/png": "[encoded data removed]",
            "text/plain": [
              "<Figure size 432x288 with 2 Axes>"
            ]
          },
          "metadata": {
            "tags": [],
            "needs_background": "light"
          }
        }
      ]
    },
    {
      "cell_type": "markdown",
      "metadata": {
        "id": "oZndz8Am8QxK"
      },
      "source": [
        "Se puede observar que la red opera con buenos resultados, solo algunos errores en un set de 4200 imagenes.\n",
        "\n",
        "Es posible usar otro bloque de codigo para revisar estos errores."
      ]
    },
    {
      "cell_type": "code",
      "metadata": {
        "id": "lyI1OrlDkHWg",
        "colab": {
          "base_uri": "https://localhost:8080/",
          "height": 296
        },
        "outputId": "97bad987-2353-4f6a-91c3-155017104abc"
      },
      "source": [
        "# Display some error results \n",
        "\n",
        "# Errors are difference between predicted labels and true labels\n",
        "errors = (Y_pred_classes - Y_true != 0)\n",
        "\n",
        "Y_pred_classes_errors = Y_pred_classes[errors]\n",
        "Y_pred_errors = Y_pred[errors]\n",
        "Y_true_errors = Y_true[errors]\n",
        "X_val_errors = X_val[errors]\n",
        "\n",
        "def display_errors(errors_index,img_errors,pred_errors, obs_errors):\n",
        "    \"\"\" This function shows 6 images with their predicted and real labels\"\"\"\n",
        "    n = 0\n",
        "    nrows = 2\n",
        "    ncols = 3\n",
        "    fig, ax = plt.subplots(nrows,ncols,sharex=True,sharey=True)\n",
        "    for row in range(nrows):\n",
        "        for col in range(ncols):\n",
        "            error = errors_index[n]\n",
        "            ax[row,col].imshow((img_errors[error]).reshape((28,28)))\n",
        "            ax[row,col].set_title(\"Predicted label :{}\\nTrue label :{}\".format(pred_errors[error],obs_errors[error]))\n",
        "            n += 1\n",
        "\n",
        "# Probabilities of the wrong predicted numbers\n",
        "Y_pred_errors_prob = np.max(Y_pred_errors,axis = 1)\n",
        "\n",
        "# Predicted probabilities of the true values in the error set\n",
        "true_prob_errors = np.diagonal(np.take(Y_pred_errors, Y_true_errors, axis=1))\n",
        "\n",
        "# Difference between the probability of the predicted label and the true label\n",
        "delta_pred_true_errors = Y_pred_errors_prob - true_prob_errors\n",
        "\n",
        "# Sorted list of the delta prob errors\n",
        "sorted_dela_errors = np.argsort(delta_pred_true_errors)\n",
        "\n",
        "# Top 6 errors \n",
        "most_important_errors = sorted_dela_errors[-6:]\n",
        "\n",
        "# Show the top 6 errors\n",
        "display_errors(most_important_errors, X_val_errors, Y_pred_classes_errors, Y_true_errors)"
      ],
      "execution_count": null,
      "outputs": [
        {
          "output_type": "display_data",
          "data": {
            "image/png": "[encoded data removed]",
            "text/plain": [
              "<Figure size 432x288 with 6 Axes>"
            ]
          },
          "metadata": {
            "tags": [],
            "needs_background": "light"
          }
        }
      ]
    },
    {
      "cell_type": "markdown",
      "metadata": {
        "id": "tpdnQYEC8oLi"
      },
      "source": [
        "Se puede observar que son errores que hasta un humano cometeria, bajo este escenario se puede concluir que el modelo ha sido exitoso y ya se puede guardar sus resultados o bien el mismo para ser consumido por un App."
      ]
    },
    {
      "cell_type": "code",
      "metadata": {
        "id": "6bJSpwqokRo5"
      },
      "source": [
        "# predict results\n",
        "results = model.predict(test)\n",
        "\n",
        "# select the indix with the maximum probability\n",
        "results = np.argmax(results,axis = 1)\n",
        "\n",
        "results = pd.Series(results,name=\"Label\")"
      ],
      "execution_count": null,
      "outputs": []
    },
    {
      "cell_type": "code",
      "metadata": {
        "id": "tkRI36VVkeAc"
      },
      "source": [
        ""
      ],
      "execution_count": null,
      "outputs": []
    }
  ]
}